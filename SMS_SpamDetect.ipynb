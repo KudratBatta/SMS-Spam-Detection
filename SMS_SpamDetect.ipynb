{
  "nbformat": 4,
  "nbformat_minor": 0,
  "metadata": {
    "colab": {
      "provenance": [],
      "authorship_tag": "ABX9TyMUXgZ66sLEExJ6gJLOdwJC",
      "include_colab_link": true
    },
    "kernelspec": {
      "name": "python3",
      "display_name": "Python 3"
    },
    "language_info": {
      "name": "python"
    }
  },
  "cells": [
    {
      "cell_type": "markdown",
      "metadata": {
        "id": "view-in-github",
        "colab_type": "text"
      },
      "source": [
        "<a href=\"https://colab.research.google.com/github/KudratBatta/SMS-Spam-Detection/blob/main/SMS_SpamDetect.ipynb\" target=\"_parent\"><img src=\"https://colab.research.google.com/assets/colab-badge.svg\" alt=\"Open In Colab\"/></a>"
      ]
    },
    {
      "cell_type": "code",
      "execution_count": 15,
      "metadata": {
        "id": "gi4h3mPuNIYX"
      },
      "outputs": [],
      "source": [
        "import pandas as pd\n",
        "from sklearn.model_selection import train_test_split\n",
        "from sklearn.preprocessing import LabelEncoder\n",
        "from sklearn.feature_extraction.text import TfidfVectorizer\n",
        "from sklearn.naive_bayes import MultinomialNB\n",
        "from sklearn.linear_model import LogisticRegression\n",
        "from sklearn.ensemble import RandomForestClassifier\n",
        "from sklearn.svm import LinearSVC\n",
        "from sklearn.metrics import classification_report\n",
        "import joblib"
      ]
    },
    {
      "cell_type": "code",
      "source": [
        "!wget -q https://archive.ics.uci.edu/ml/machine-learning-databases/00228/smsspamcollection.zip\n",
        "!unzip -o smsspamcollection.zip"
      ],
      "metadata": {
        "colab": {
          "base_uri": "https://localhost:8080/"
        },
        "id": "Rt7VLCemRkmk",
        "outputId": "7b83965c-40a6-4093-96f8-9b5de0715e1b"
      },
      "execution_count": 16,
      "outputs": [
        {
          "output_type": "stream",
          "name": "stdout",
          "text": [
            "Archive:  smsspamcollection.zip\n",
            "  inflating: SMSSpamCollection       \n",
            "  inflating: readme                  \n"
          ]
        }
      ]
    },
    {
      "cell_type": "code",
      "source": [
        "df = pd.read_csv(\"SMSSpamCollection\", sep=\"\\t\", header=None, names=[\"label\", \"message\"])\n",
        "df['label'] = df['label'].map({'ham': 0, 'spam': 1})"
      ],
      "metadata": {
        "id": "IEXLjwYwRsGl"
      },
      "execution_count": 17,
      "outputs": []
    },
    {
      "cell_type": "code",
      "source": [
        "X_train, X_test, y_train, y_test = train_test_split(\n",
        "    df[\"message\"], df[\"label\"], test_size=0.2, random_state=42, stratify=df[\"label\"]\n",
        ")"
      ],
      "metadata": {
        "id": "Rha0TbpFRsJt"
      },
      "execution_count": 18,
      "outputs": []
    },
    {
      "cell_type": "code",
      "source": [
        "vectorizer = TfidfVectorizer(stop_words='english', max_df=0.9)\n",
        "X_train_vec = vectorizer.fit_transform(X_train)\n",
        "X_test_vec = vectorizer.transform(X_test)"
      ],
      "metadata": {
        "id": "g1_EEPBNRsVb"
      },
      "execution_count": 19,
      "outputs": []
    },
    {
      "cell_type": "code",
      "source": [
        "models = {\n",
        "    \"Naive Bayes\": MultinomialNB(),\n",
        "    \"Logistic Regression\": LogisticRegression(max_iter=1000),\n",
        "    \"Random Forest\": RandomForestClassifier(n_estimators=100, random_state=42),\n",
        "    \"SVM\": LinearSVC()\n",
        "}\n",
        "\n",
        "summary = []"
      ],
      "metadata": {
        "id": "CIfl9v1SRzRn"
      },
      "execution_count": 20,
      "outputs": []
    },
    {
      "cell_type": "code",
      "source": [
        "for name, model in models.items():\n",
        "    model.fit(X_train_vec, y_train)\n",
        "    y_pred = model.predict(X_test_vec)\n",
        "    report = classification_report(y_test, y_pred, output_dict=True)\n",
        "    weighted = report[\"weighted avg\"]\n",
        "    summary.append({\n",
        "        \"Model\": name,\n",
        "        \"Precision\": round(weighted[\"precision\"], 4),\n",
        "        \"Recall\": round(weighted[\"recall\"], 4),\n",
        "        \"F1-Score\": round(weighted[\"f1-score\"], 4)\n",
        "    })"
      ],
      "metadata": {
        "id": "sUi_yDHORzUZ"
      },
      "execution_count": 21,
      "outputs": []
    },
    {
      "cell_type": "code",
      "source": [
        "results_df = pd.DataFrame(summary).sort_values(by=\"F1-Score\", ascending=False).reset_index(drop=True)\n",
        "print(\"📊 Model Performance:\\n\")\n",
        "print(results_df)"
      ],
      "metadata": {
        "colab": {
          "base_uri": "https://localhost:8080/"
        },
        "id": "4mV1HpS8Rsn4",
        "outputId": "0c782777-eaec-430d-f348-8a2e588d5bfc"
      },
      "execution_count": 22,
      "outputs": [
        {
          "output_type": "stream",
          "name": "stdout",
          "text": [
            "📊 Model Performance:\n",
            "\n",
            "                 Model  Precision  Recall  F1-Score\n",
            "0                  SVM     0.9840  0.9839    0.9835\n",
            "1        Random Forest     0.9756  0.9749    0.9738\n",
            "2          Naive Bayes     0.9714  0.9704    0.9688\n",
            "3  Logistic Regression     0.9689  0.9677    0.9658\n"
          ]
        }
      ]
    },
    {
      "cell_type": "code",
      "source": [
        "best_model = models[\"SVM\"]\n",
        "joblib.dump(best_model, \"svm_spam_model.joblib\")\n",
        "joblib.dump(vectorizer, \"tfidf_vectorizer.joblib\")\n",
        "print(\"\\n✅ SVM model and TF-IDF vectorizer saved.\")"
      ],
      "metadata": {
        "colab": {
          "base_uri": "https://localhost:8080/"
        },
        "id": "R1rQD9TzR_gk",
        "outputId": "b5ca2738-64ce-4c88-d218-13493b16b6de"
      },
      "execution_count": 23,
      "outputs": [
        {
          "output_type": "stream",
          "name": "stdout",
          "text": [
            "\n",
            "✅ SVM model and TF-IDF vectorizer saved.\n"
          ]
        }
      ]
    },
    {
      "cell_type": "code",
      "source": [
        "import joblib\n",
        "\n",
        "model = joblib.load(\"svm_spam_model.joblib\")\n",
        "vectorizer = joblib.load(\"tfidf_vectorizer.joblib\")\n",
        "\n",
        "msg = [\"You've won a free iPhone! Click here to claim.\"]\n",
        "msg_vec = vectorizer.transform(msg)\n",
        "prediction = model.predict(msg_vec)\n",
        "\n",
        "print(\"Spam\" if prediction[0] == 1 else \"Ham\")"
      ],
      "metadata": {
        "id": "EcEfnm_UTYUt",
        "outputId": "b2d4d24d-7b6d-410c-bd51-025886d3c9d0",
        "colab": {
          "base_uri": "https://localhost:8080/"
        }
      },
      "execution_count": 24,
      "outputs": [
        {
          "output_type": "stream",
          "name": "stdout",
          "text": [
            "Spam\n"
          ]
        }
      ]
    }
  ]
}